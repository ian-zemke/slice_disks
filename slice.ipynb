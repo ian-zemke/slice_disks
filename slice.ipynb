{
 "cells": [
  {
   "cell_type": "code",
   "execution_count": 1,
   "metadata": {},
   "outputs": [],
   "source": [
    "#This program contains the class CFKinfty as well as some accompanying code to construct standard examples\n",
    "#We now describe the main methods for the user.\n",
    "    #The main object is the class CFKinfty.\n",
    "    #To initialize a CFKinfty object, one passes two lists, gen and diff.\n",
    "    #The ith entry of gen is a two element list [gr_w(x_i), A(x_i)], where x_0, ..., x_n\n",
    "    #is an enumeration of the point in Ta\\cap Tb.\n",
    "    #diff is a list of integer lists. diff[i] should contain j\n",
    "    #iff there is a Maslov index 1 disk from x_i to x_j,\n",
    "\n",
    "    #An example of instantiating a CFKinfty class is the following:\n",
    "    \n",
    "        #genFig8=[[0,0],[0,0],[-1,-1],[1,1],[0,0]]\n",
    "        #diffFig8=[[],[2,3],[4],[4],[]]\n",
    "        #Fig8=CFKinfty(genFig8,diffFig8)\n",
    "    \n",
    "    #Main attributes of the CFKinfty class:\n",
    "        #gen\n",
    "            #the list of generators which is passed when instantiating\n",
    "        #diff\n",
    "            #the differential which is passed in\n",
    "        #rank\n",
    "            #the number of generators\n",
    "        #Phi\n",
    "            #a list\n",
    "            # Phi[i] is the list of j such that Phi(x_i) contains a summand of y_j with some powers of variables.\n",
    "            #Phi is the map obtained by applying \"d/d U\" to the differential, written as a matrix with entries in F[U,V]\n",
    "        #Psi\n",
    "            #similar to Phi, but with \"d/dV\"\n",
    "        \n",
    "        #If C is a CFKinfty complex, then an attribute is viewed by typing \"C.gen\" and pressing enter.\n",
    "        \n",
    "    #Methods of the CFKinfty class\n",
    "        \n",
    "        #If C is a CFKinfty complex, then C.dual() is the dual\n",
    "        \n",
    "        #If C1 and C2 are two CFKinfty complexes, then C1.tensor(C2) is the tensor product CFKinfty complex.\n",
    "        \n",
    "        \n",
    "        #The program views a map from F[U,V] to CFK^infty(K) as a list of indices\n",
    "        # the list T=[0,2] means the sum of x_0 U^{i_0}V^{j_0}+ x_2 U^{i_2}V^{j_2} for the\n",
    "        #unique i_0, j_0, i_1 and j_2 which put the expression into Maslov and Alexander grading zero\n",
    "        #implicitly, we are always assuming that x_0 and x_2 are in mod 2 grading 0.\n",
    "        \n",
    "        #T will usually correspond to the element t_{D_1}(1)-t_{D_2}(1)\n",
    "        \n",
    "        #C.V0(T)\n",
    "            #input is a list T, as above\n",
    "            #returns an integer V_0(T)\n",
    "        #C.Vk(T,n)\n",
    "            #T is a list, n is a positive integer, returns integer V_n(T)\n",
    "        #C.V(T)\n",
    "            #returns the list [V_0(T),...V_k(T), V_{k+1}(T)] where $V_{k+1}(T)$ is the first local\n",
    "            #h-invariant which is zero\n",
    "        #C.tau(T)\n",
    "            #returns the integer tau\n",
    "        #C.Upsilon(T,t)\n",
    "            #t is a number in [0,2]\n",
    "            #returns a real number\n",
    "        #C.UpsilonCoordinates(T,k)\n",
    "            #k is a positive integer\n",
    "            #returns a list of elements of the form [i/k, Upsilon_T(i/k)] where i is in {0,1,...,2k}\n",
    "        #C.PlotUpsilon(T,k)\n",
    "            #k positive integer\n",
    "            #returns a plot of the Upsilon function, evaluated at the points i/k for i in {0,1,...,2k}\n",
    "     \n",
    "    #Additional methods\n",
    "        # rotatespuninfty(C)\n",
    "            #returns a pair [C',T] where C' is a new CFKinfty complex, corresponding to K#K#K*#K* and T is\n",
    "            #a list corresponding to the map which is the difference between the t_D's of the canonical slice disk,\n",
    "            #and the deform spun slice disk for the pi radian rotation of K#K\n",
    "        # rollspun(C)\n",
    "            #returns a pair [C',T] where C is a new CFKinfty complex, corresponding to K#K* and T\n",
    "            #is the difference between the t_D's of the canonical slice disk and the 1-roll spun slice disk.\n",
    "\n",
    "class CFKinfty(object):\n",
    "    #gen should be a list of 2 element lists of the form [M,A] where M is the Maslov (gr_w) grading\n",
    "    #A is the Alexander grading\n",
    "    #gen should be the Maslov and Alexander gradings of the intersection points in T_a\\cap T_b\n",
    "    #diff is a list of lists. diff[i] is a list of integers. j is in diff[i] if the total count of index 1 disks going from\n",
    "    #x_i to x_j is 1 mod 2.\n",
    "    #Total length of diff should be the rank=the number of generators.\n",
    "    #indexing starts at 0\n",
    "    def __init__(self, gen, diff):\n",
    "        self.gen=gen\n",
    "        self.diff=diff\n",
    "        self.rank=len(gen)\n",
    "        #C0 is the list of generators in grading 0\n",
    "        #it's a list of elements of the form [n,i,j]\n",
    "        #n is the original index, and i and j are the bifiltrations\n",
    "        #note bilfiltrations are the polynomial convention (opposite Ozsvath-Szabo convention)\n",
    "        #so [n,i,j] means x_n U^i V^j\n",
    "        #C1 is the list of generators in grading 1.\n",
    "        #this part of the code builds C0 and C1\n",
    "        C0=[]\n",
    "        C1=[]\n",
    "        for i in range(self.rank):\n",
    "            L=self.gen[i]\n",
    "            Mw=L[0]\n",
    "            A=L[1]\n",
    "            if Mw%2==1:\n",
    "                x=[i,(Mw-1)/2, (Mw-2*A-1)/2]\n",
    "                C1.append(x)\n",
    "            if Mw%2==0:\n",
    "                x=[i,Mw/2, (Mw-2*A)/2]\n",
    "                C0.append(x)\n",
    "        self.C0=C0\n",
    "        self.C1=C1\n",
    "        #rank0 and rank1 are the ranks of C0 and C1\n",
    "        self.rank0=len(C0)\n",
    "        self.rank1=len(C1)\n",
    "        C0ind=[]\n",
    "        for x in C0:\n",
    "            C0ind.append(x[0])\n",
    "        self.C0ind=C0ind\n",
    "        Alex=[]\n",
    "        Mas=[]\n",
    "        for i in range(self.rank):\n",
    "            Alex.append(gen[i][1])\n",
    "            Mas.append(gen[i][0])\n",
    "        #Alex and Mas are just the 0 and 1 components of the components of gen\n",
    "        self.Alex=Alex\n",
    "        self.Mas=Mas\n",
    "        \n",
    "        self.Phi=[]\n",
    "        self.Psi=[]\n",
    "        for i in range(self.rank):\n",
    "            x=self.gen[i]\n",
    "            Phix=[]\n",
    "            Psix=[]\n",
    "            for j in self.diff[i]:\n",
    "                y=self.gen[j]\n",
    "                if ((x[0]-y[0]-1)/2)%2==1:\n",
    "                    Phix.append(j)\n",
    "                if ((x[0]-2*x[1]-y[0]+2*y[1]-1)/2)%2==1:\n",
    "                    Psix.append(j)\n",
    "            self.Phi.append(Phix)\n",
    "            self.Psi.append(Psix)\n",
    "    \n",
    "        \n",
    "        \n",
    "        \n",
    "    #T is the difference between the two maps tD_1 and tD_2\n",
    "    #T is a list of integers, corresponding to the x_i (with original indices)\n",
    "    # which have non-zero component in (tD1-tD2)(1)\n",
    "    # T is assumed to be in grading 0.\n",
    "    #powers of U are filled in by the program.\n",
    "    def V0(self,T):\n",
    "        #instead of multiplying by powers of U, we expand which elements of C1 contribute to the differential from C1 to C0.\n",
    "        # we consider intersection points [x,i,j] with i>=-shift and j>=-shift.\n",
    "        #C1_remain consists of the remaining intersection points which haven't been considered.\n",
    "        C1_remain=copy(self.C1)\n",
    "        shift=0\n",
    "        #deleted is the number of entries of C1 which have been added to C1k\n",
    "        #deleted will be equal to the number of intersection \n",
    "        #points [x,i,j] in grading 1 with i\\ge -shift and j\\ge -shift\n",
    "        deleted_tot=0\n",
    "        #we now make T into a vector of in F^(rank0)\n",
    "        T0=vector(GF(2), self.rank0, sparse=true)\n",
    "        if T0==vector(GF(2), self.rank0,sparse=true):\n",
    "            return 0\n",
    "        for y in T:\n",
    "            T0+=vector(GF(2), self.rank0, {self.C0ind.index(y):1}, sparse=true)        \n",
    "        #Ds is the matrix for the differential restricted to Diff1(i>=-shift, j>=-shift)\n",
    "        Ds=matrix(GF(2),len(self.C0),0, sparse=true)\n",
    "        #we now build Ds for shift=0\n",
    "        while deleted_tot<self.rank1:\n",
    "            deleted_shift=0\n",
    "            for i in range(len(C1_remain)):\n",
    "                x=C1_remain[i-deleted_shift]\n",
    "                if x[1]>=-shift and x[2]>=-shift:\n",
    "                    C1_remain.pop(i-deleted_shift)\n",
    "                    deleted_shift+=1\n",
    "                    deleted_tot+=1\n",
    "                    vectordiffx=vector(GF(2),self.rank0,sparse=true)\n",
    "                    for y in self.diff[x[0]]:\n",
    "                        vectordiffx+=vector(GF(2), self.rank0, {self.C0ind.index(y):1}, sparse=true)\n",
    "                    Ds=Ds.augment(vectordiffx)\n",
    "            #PivotsAugmented is the list of pivot columns of the augmented matrix (Ds|T0)\n",
    "            PivotsAugmented=Ds.augment(T0).pivots()\n",
    "            NumPivots=len(PivotsAugmented)\n",
    "            if NumPivots>0:\n",
    "                if PivotsAugmented[len(PivotsAugmented)-1]!=deleted_tot:\n",
    "                    return shift\n",
    "            shift+=1\n",
    "        return \"T does appear to be a boundary\"\n",
    "    #computes Vk(T)\n",
    "    #the code is basically the same as V0, but with a slight tweak.\n",
    "    #def Vk(self,T,k):\n",
    "    def Vk(self,T,k):\n",
    "        #instead of multiplying by powers of U, we expand which elements of C1 contribute to the differential from C1 to C0.\n",
    "        # we consider intersection points [x,i,j] with i>=-shift and j>=-shift-k.\n",
    "        #C1_remain consists of the remaining intersection points which haven't been considered.\n",
    "        C1_remain=copy(self.C1)\n",
    "        shift=0\n",
    "        #deleted is the number of entries of C1 which have been added to C1k\n",
    "        #deleted will be equal to the number of intersection \n",
    "        #points [x,i,j] in grading 1 with i\\ge -shift and j\\ge -shift-k\n",
    "        deleted_tot=0\n",
    "        #we now make T into a vector of in F^(rank0)\n",
    "        T0=vector(GF(2), self.rank0, sparse=true)\n",
    "        for y in T:\n",
    "            T0+=vector(GF(2), self.rank0, {self.C0ind.index(y):1}, sparse=true)        \n",
    "        #Ds is the matrix for the differential restricted to Diff1(i>=-shift, j>=-shift-k)\n",
    "        if T0==vector(GF(2), self.rank0,sparse=true):\n",
    "            return 0\n",
    "        Ds=matrix(GF(2),len(self.C0),0, sparse=true)\n",
    "        #we now build Ds for shift=0\n",
    "        while deleted_tot<self.rank1:\n",
    "            deleted_shift=0\n",
    "            for i in range(len(C1_remain)):\n",
    "                x=C1_remain[i-deleted_shift]\n",
    "                if x[1]>=-shift and x[2]>=-shift-k:\n",
    "                    C1_remain.pop(i-deleted_shift)\n",
    "                    deleted_shift+=1\n",
    "                    deleted_tot+=1\n",
    "                    vectordiffx=vector(GF(2),self.rank0,sparse=true)\n",
    "                    for y in self.diff[x[0]]:\n",
    "                        vectordiffx+=vector(GF(2), self.rank0, {self.C0ind.index(y):1}, sparse=true)\n",
    "                    Ds=Ds.augment(vectordiffx)\n",
    "            #PivotsAugmented is the list of pivot columns of the augmented matrix (Ds|T0)\n",
    "            PivotsAugmented=Ds.augment(T0).pivots()\n",
    "            NumPivots=len(PivotsAugmented)\n",
    "  \n",
    "            if NumPivots>0:\n",
    "                if PivotsAugmented[len(PivotsAugmented)-1]!=deleted_tot:\n",
    "                    return shift\n",
    "            shift+=1\n",
    "        return \"T does appear to be a boundary\"\n",
    "    \n",
    "    #returns the tuple [V0,V1,V2,... ,0]\n",
    "    def V(self,T):\n",
    "        nonzero=true\n",
    "        V=[]\n",
    "        index=0\n",
    "        while(nonzero):\n",
    "            V_index=self.Vk(T,index)\n",
    "            V.append(V_index)\n",
    "            index+=1\n",
    "            if V_index<=0:\n",
    "                nonzero=false\n",
    "        return V\n",
    "    \n",
    "    #t is a real number in [0,2]\n",
    "    def Upsilon(self,T,t):\n",
    "        T0=vector(GF(2), self.rank0, sparse=true)\n",
    "        for y in T:\n",
    "            T0+=vector(GF(2), self.rank0, {self.C0ind.index(y):1}, sparse=true) \n",
    "        if T0==vector(GF(2), self.rank0,sparse=true):\n",
    "            return 0\n",
    "        #C1trem is a list of elements of the form [n,s] corresponding to an intersection point in C1\n",
    "        # n is the original index from gen.\n",
    "        # s is (t/2) i+(1-t/2)j\n",
    "        #the entries will be deleted as the terms are added to the differential \n",
    "        C1tRemain=[]\n",
    "        for L in self.C1:\n",
    "            C1tRemain.append([L[0],(t/2)*L[1]+(1-t/2)*L[2]])\n",
    "        C1tRemain=sorted(C1tRemain,key=lambda entry: entry[1],reverse=true)\n",
    "        #intersection points will be removed from C1tRemain in the order of their second component\n",
    "        #tfiltlevel denotes the current filtration level.\n",
    "        tfiltlevel=C1tRemain[0][1]\n",
    "        #D is the matrix denoting the differential, initialized with zero columns and rank0 rows\n",
    "        D=matrix(GF(2),len(self.C0),0, sparse=true)\n",
    "        while len(C1tRemain)>0:\n",
    "            x=C1tRemain.pop(0)\n",
    "            vectordiffx=vector(GF(2),self.rank0,sparse=true)\n",
    "            for y in self.diff[x[0]]:\n",
    "                vectordiffx+=vector(GF(2), self.rank0, {self.C0ind.index(y):1}, sparse=true)\n",
    "            D=D.augment(vectordiffx)\n",
    "            previousfiltration=tfiltlevel\n",
    "            if len(C1tRemain)>0:\n",
    "                tfiltlevel=C1tRemain[0][1]\n",
    "            if tfiltlevel<0 and tfiltlevel!=previousfiltration or len(C1tRemain)==0:\n",
    "                #PivotsAugmented is the list of pivot columns of the augmented matrix (D|T0)\n",
    "                PivotsAugmented=D.augment(T0).pivots()\n",
    "                NumPivots=len(PivotsAugmented)\n",
    "                if NumPivots>0 and PivotsAugmented[NumPivots-1]!=D.ncols():\n",
    "                        return -previousfiltration\n",
    "        return \"Error\"\n",
    "    #returns a list of elements of the form [i/k, Upsilon_T(t)] where i is in {0,1,...,2k}\n",
    "    #k is an integer\n",
    "    #Computes Upsilon at i/k for i in {1/k,..., 1} and uses symmetry and basic properties to fill in rest\n",
    "    def UpsilonCoordinates(self,T,k):\n",
    "        L=[[0,0]]\n",
    "        for i in range(1,k+1):\n",
    "            L.append([i/k,self.Upsilon(T,i/k)])\n",
    "        for i in range(k):\n",
    "            L.append([(k+i+1)/k,L[k-1-i][1]])\n",
    "        return L\n",
    "    def PlotUpsilon(self,T,k):\n",
    "        from sage.plot.point import Point\n",
    "        L=self.UpsilonCoordinates(T,k)\n",
    "        P=point(L)\n",
    "        return plot(P)\n",
    "    \n",
    "\n",
    "    \n",
    "    \n",
    "    \n",
    "    \n",
    "    def tensor(self,Comp):\n",
    "        newgen=[]\n",
    "        newdiff=[]\n",
    "        newAlex=[]\n",
    "        newMas=[]\n",
    "        r1=self.rank\n",
    "        r2=Comp.rank\n",
    "        for i in self.Mas:\n",
    "            for j in Comp.Mas:\n",
    "                newMas.append(i+j)\n",
    "        for i in self.Alex:\n",
    "            for j in Comp.Alex:\n",
    "                newAlex.append(i+j)\n",
    "        newgen=zip(newMas,newAlex)\n",
    "        for n in range(len(self.diff)):\n",
    "            D1=self.diff[n]\n",
    "            for m in range(len(Comp.diff)):\n",
    "                D1D2=[]\n",
    "                D2=Comp.diff[m]\n",
    "                for y1 in D1:\n",
    "                    D1D2.append(y1*r2+m)\n",
    "                for y2 in D2:\n",
    "                    D1D2.append(n*r2+y2)\n",
    "                newdiff.append(D1D2)\n",
    "        return CFKinfty(newgen,newdiff)\n",
    "    def dual(self):\n",
    "        newgen=[[-x for x in y] for y in self.gen]\n",
    "        newdiff=[[] for x in self.diff]\n",
    "        for j in range(len(self.diff)):\n",
    "            L=self.diff[j]\n",
    "            for i in L:\n",
    "                newdiff[i].append(j)\n",
    "        return CFKinfty(newgen,newdiff)\n",
    "\n",
    "    #diffUto0returns is a list of integer lists. Length is rank(C)\n",
    "    #it corresponds to the differential on the complex obtained by setting U=0.\n",
    "    def diffUto0(self):\n",
    "        diffUto0=[]\n",
    "        for i in range(len(self.gen)):\n",
    "            x=self.gen[i]\n",
    "            diffUto0x=[]\n",
    "            for j in self.diff[i]:\n",
    "                y=self.gen[j]\n",
    "                if x[0]-y[0]==1:\n",
    "                    diffUto0x.append(j)\n",
    "            diffUto0.append(diffUto0x)\n",
    "        return diffUto0\n",
    "   \n",
    "    ##returns tau of the complex with the element T\n",
    "    def tau(self, T):\n",
    "        #C0hat and C1hat are just the lists of intersection points which are in grading 0 or 1\n",
    "        C1hat=[]\n",
    "        C0hat=[]\n",
    "        for i in range(self.rank):\n",
    "            gr=self.Mas[i]\n",
    "            if gr==0:\n",
    "                C0hat.append(i)\n",
    "            if gr==1:\n",
    "                C1hat.append(i)\n",
    "        diffhat=self.diffUto0()\n",
    "        #diff1 is a reindexing of diffhat, in the bases of C0hat and C1hat.\n",
    "        #diff1 is a list of len(C1hat) lists. \n",
    "        #The i^th sublist consists of the y_i in C0hat where D(x_j) has nonzero coefficient.\n",
    "        diff1=[]\n",
    "        for i in C1hat:\n",
    "            D1new=[]\n",
    "            D1old=diffhat[i]\n",
    "            for j in D1old:\n",
    "                D1new.append(C0hat.index(j))\n",
    "            diff1.append(D1new)\n",
    "        #r1 and r0 are the ranks of C0hat and C1hat\n",
    "        r1=len(C1hat)\n",
    "        r0=len(C0hat)\n",
    "        #D an r_0 x r_1 matrix. It is the differential. It is initialized to zero.\n",
    "        #We iterate over Alexander gradings, adding columns corresponding to int points of Alexander grading i\n",
    "        #We assume the differential decreases Alexander grading (so it's the V=0 version)\n",
    "        #We assume that the d(C1hat)subset C0hat\n",
    "        D=matrix(GF(2), r0,r1, sparse=true)\n",
    "        #makes D the restriction of diffhat to Alex<=0.\n",
    "        for i in range(len(C1hat)):\n",
    "            if self.Alex[C1hat[i]]<=0:\n",
    "                for j in diff1[i]:\n",
    "                    D[j,i]+=1\n",
    "        #makes a vector T0 in R^r0, corresponding to the element T0 in C0hat.\n",
    "        T0=vector(GF(2),r0, sparse=true)\n",
    "        for i in T:\n",
    "            if self.Mas[i]==0:\n",
    "                indi=C0hat.index(i)\n",
    "                T0[indi]+=1\n",
    "        #sees whether T0 is in image of DT0. Computes pivot rows \n",
    "        DT0=D.augment(T0)\n",
    "        Piv=DT0.pivots()\n",
    "        if len(Piv)>0:\n",
    "            if len(C1hat)!=Piv[len(Piv)-1]:\n",
    "                return 0\n",
    "        for i in range(1,max(self.Alex)+1):\n",
    "            for j in C1hat:\n",
    "                if self.Alex[j]==i:\n",
    "                    jnew=C1hat.index(j)\n",
    "                    for k in diff1[jnew]:\n",
    "                        D[k,jnew]+=1\n",
    "            DT0=D.augment(T0)\n",
    "            Piv=DT0.pivots()\n",
    "            if len(Piv)>0:      \n",
    "                if len(C1hat)!=Piv[len(Piv)-1]:\n",
    "                    return i\n",
    "        return \"error\"\n",
    "    \n",
    "    \n",
    "    \n",
    "    \n",
    "\n",
    "#The following is some code outside of the CFKinfty class to help build examples.\n",
    "    \n",
    "    \n",
    "# maptoelement(F) sends the endomorphism F: C to C, the element in C\\otimes C*\n",
    "# code can be modified to word to a map F: A to B, to give the element in B \\otimes A*,\n",
    "# but will need another argument for rank(B)\n",
    "def endotoelmt(F):\n",
    "    E=[]\n",
    "    rank=len(F)\n",
    "    for i in range(len(F)):\n",
    "        for y in F[i]:\n",
    "            E.append(rank*y+i)\n",
    "    return E\n",
    "# gives the identity function in list form\n",
    "def idenfunc(n):\n",
    "    newmap=[]\n",
    "    for i in range(n):\n",
    "        newmap.append([i])\n",
    "    return newmap\n",
    "# gives the sum of two maps, in list form. Assumes that F and G have the same number of entries.\n",
    "def summaps(F,G):\n",
    "    newmap=[]\n",
    "    for i in range(len(F)):\n",
    "        newterm=[]\n",
    "        newterm.extend(F[i])\n",
    "        newterm.extend(G[i])\n",
    "        newterm=mod2(newterm)\n",
    "        newmap.append(newterm)\n",
    "    return newmap\n",
    "\n",
    "def swap(n):\n",
    "    newmap=[]\n",
    "    for i in range(n):\n",
    "        for j in range(n):\n",
    "            newmap.append([n*j+i])\n",
    "    return newmap\n",
    "\n",
    "\n",
    "   #deletes pairs of repeated elements from a list of integers\n",
    "def mod2(L):\n",
    "    K=copy(L)\n",
    "    for x in L:\n",
    "        if K.count(x)>1:\n",
    "            K.remove(x)\n",
    "            K.remove(x)\n",
    "    return K\n",
    "\n",
    "#builds the swap map on A\\otimes A, as a list. The input n is the rank of A\n",
    "def composemaps(G,F):\n",
    "    newmap=[]\n",
    "    for x in F:\n",
    "        L=[]\n",
    "        for y in x:\n",
    "            L.extend(G[y])\n",
    "        L=mod2(L)    \n",
    "        newmap.append(L)\n",
    "    return newmap\n",
    "\n",
    "\n",
    "#builds the tensor product of two maps F and G\n",
    "#on the tensor product of their domains, to the tensor product of their codomains\n",
    "#rG is the rank of the codomain of G \n",
    "def tensormaps(F,G,rG):\n",
    "    newmap=[]\n",
    "    for x1 in F:\n",
    "        for x2 in G:\n",
    "            T=[]\n",
    "            for y1 in x1:\n",
    "                for y2 in x2:\n",
    "                    T.append(y1*rG+y2)\n",
    "            newmap.append(T)\n",
    "    return newmap\n",
    "\n",
    "\n",
    "        \n",
    "\n",
    "#returns a pair [C,T] where C is the CFKinfty object for K#K #K*#K* and T is the\n",
    "# difference of the maps for the the pi/2 rotate-spun slice disk and the canonical slice disk\n",
    "def rotatespuninfty(K):\n",
    "    Kdual=K.dual()\n",
    "    SuperK=K.tensor(K.tensor(Kdual.tensor(Kdual)))\n",
    "    rank=K.rank\n",
    "    X=swap(rank)\n",
    "    PhiPsi=composemaps(K.Phi,K.Psi)\n",
    "    PhixPsi=tensormaps(K.Phi,K.Psi,rank)\n",
    "    Ir=idenfunc(rank)\n",
    "    Ir2=idenfunc(rank^2)\n",
    "    PhiPsixI=tensormaps(PhiPsi,Ir,rank)\n",
    "    D=composemaps(X,summaps(Ir2,summaps(PhixPsi,PhiPsixI)))\n",
    "    T=endotoelmt(summaps(D,Ir2))\n",
    "    return [SuperK,T]\n",
    "\n",
    "    #returns the [C,T] where C is the CFKinfty complex for K# K^* and T\n",
    "    #is the difference of the maps for the 1-rollspin and the canonical slice disk\n",
    "def rollspun(K):\n",
    "    KKdual=K.tensor(K.dual())\n",
    "    rank=K.rank\n",
    "    PhiPsi=composemaps(K.Phi,K.Psi)\n",
    "    T=endotoelmt(PhiPsi)\n",
    "    return [KKdual,T]\n",
    "    \n"
   ]
  },
  {
   "cell_type": "code",
   "execution_count": 3,
   "metadata": {},
   "outputs": [],
   "source": [
    "#some examples built using the T34 torus knot\n",
    "genT34=[[-6,-3],[-5,-2],[-2,0],[-1,2],[0,3]]\n",
    "diffT34=[[],[0,2],[],[2,4],[]]\n",
    "T34=CFKinfty(genT34,diffT34)\n",
    "# the rotate spun T34#T34\n",
    "R34big=rotatespuninfty(T34)\n",
    "R34=R34big[0]\n",
    "T_R34=R34big[1]\n",
    "#The 1-rollspin of T34#T34\n",
    "RollT34T34big=rollspun(T34.tensor(T34))\n",
    "RollT34T34=RollT34T34big[0]\n",
    "TRollT34T34=RollT34T34big[1]"
   ]
  },
  {
   "cell_type": "code",
   "execution_count": 3,
   "metadata": {},
   "outputs": [],
   "source": [
    "#Plotting Upsilon of the 1 rotatespin of T34#T34\n",
    "P34=R34.PlotUpsilon(T_R34,40)"
   ]
  },
  {
   "cell_type": "code",
   "execution_count": 7,
   "metadata": {},
   "outputs": [
    {
     "data": {
      "image/png": "[encoded data removed]",
      "text/plain": [
       "Graphics object consisting of 1 graphics primitive"
      ]
     },
     "execution_count": 7,
     "metadata": {},
     "output_type": "execute_result"
    }
   ],
   "source": [
    "P34.plot()"
   ]
  },
  {
   "cell_type": "code",
   "execution_count": 4,
   "metadata": {},
   "outputs": [
    {
     "data": {
      "text/plain": [
       "2"
      ]
     },
     "execution_count": 4,
     "metadata": {},
     "output_type": "execute_result"
    }
   ],
   "source": [
    "#tau of the rotate spin of T34#T34\n",
    "R34.tau(T_R34)"
   ]
  },
  {
   "cell_type": "code",
   "execution_count": 5,
   "metadata": {},
   "outputs": [
    {
     "data": {
      "text/plain": [
       "[1, 1, 0]"
      ]
     },
     "execution_count": 5,
     "metadata": {},
     "output_type": "execute_result"
    }
   ],
   "source": [
    "#[V_0,V_1,V_2] of the rotate spin of T34#T34\n",
    "R34.V(T_R34)"
   ]
  },
  {
   "cell_type": "code",
   "execution_count": 7,
   "metadata": {},
   "outputs": [
    {
     "data": {
      "text/plain": [
       "[1, 0]"
      ]
     },
     "execution_count": 7,
     "metadata": {},
     "output_type": "execute_result"
    }
   ],
   "source": [
    "#[V_0,V_1] of the 1-roll spin of T34#T34\n",
    "RollT34T34.V(TRollT34T34)"
   ]
  },
  {
   "cell_type": "code",
   "execution_count": 8,
   "metadata": {},
   "outputs": [
    {
     "data": {
      "image/png": "[encoded data removed]",
      "text/plain": [
       "Graphics object consisting of 1 graphics primitive"
      ]
     },
     "execution_count": 8,
     "metadata": {},
     "output_type": "execute_result"
    }
   ],
   "source": [
    "#Upsilon of the 1-roll spin of T34#T34\n",
    "RollT34T34.PlotUpsilon(TRollT34T34,10)"
   ]
  },
  {
   "cell_type": "code",
   "execution_count": 8,
   "metadata": {},
   "outputs": [],
   "source": [
    "#The knot complex for T45\n",
    "genT45=[[-12,-6],[-11,-5],[-6,-2],[-5,0],[-2,2],[-1,5],[0,6]]\n",
    "diffT45=[[],[0,2],[],[2,4],[],[4,6],[]]\n",
    "T45=CFKinfty(genT45,diffT45)\n",
    "#the complex and map for the rotate spin of T45#T45\n",
    "R45big=rotatespuninfty(T45)\n",
    "R45=R45big[0]\n",
    "T_R45=R45big[1]"
   ]
  },
  {
   "cell_type": "code",
   "execution_count": 10,
   "metadata": {},
   "outputs": [
    {
     "data": {
      "image/png": "[encoded data removed]",
      "text/plain": [
       "Graphics object consisting of 1 graphics primitive"
      ]
     },
     "execution_count": 10,
     "metadata": {},
     "output_type": "execute_result"
    }
   ],
   "source": [
    "#Upsilon of the rotate spin of T45#T45\n",
    "R45.PlotUpsilon(T_R45,40)"
   ]
  },
  {
   "cell_type": "code",
   "execution_count": 28,
   "metadata": {},
   "outputs": [],
   "source": [
    "P.save('UpsilonR45.pdf')"
   ]
  },
  {
   "cell_type": "code",
   "execution_count": 11,
   "metadata": {},
   "outputs": [
    {
     "data": {
      "text/plain": [
       "3"
      ]
     },
     "execution_count": 11,
     "metadata": {},
     "output_type": "execute_result"
    }
   ],
   "source": [
    "#tau of the rotate spun T45#45\n",
    "R45.tau(T_R45)"
   ]
  },
  {
   "cell_type": "code",
   "execution_count": 12,
   "metadata": {},
   "outputs": [
    {
     "data": {
      "text/plain": [
       "[2, 1, 1, 0]"
      ]
     },
     "execution_count": 12,
     "metadata": {},
     "output_type": "execute_result"
    }
   ],
   "source": [
    "R45.V(T_R45)"
   ]
  },
  {
   "cell_type": "code",
   "execution_count": 7,
   "metadata": {},
   "outputs": [],
   "source": [
    "#The figure 8 complex  \n",
    "genFig8=[[0,0],[0,0],[-1,-1],[1,1],[0,0]]\n",
    "diffFig8=[[],[2,3],[4],[4],[]]\n",
    "Fig8=CFKinfty(genFig8,diffFig8)\n",
    "#The rotate spin of Fig8#Fig8\n",
    "RFig8big=rotatespuninfty(Fig8)\n",
    "RFig8=RFig8big[0]\n",
    "T_RFig8=RFig8big[1]"
   ]
  },
  {
   "cell_type": "code",
   "execution_count": 14,
   "metadata": {},
   "outputs": [
    {
     "data": {
      "text/plain": [
       "1"
      ]
     },
     "execution_count": 14,
     "metadata": {},
     "output_type": "execute_result"
    }
   ],
   "source": [
    "#tau of the rotate spun slice disk for Fig8#Fig8\n",
    "RFig8.tau(T_RFig8)"
   ]
  },
  {
   "cell_type": "code",
   "execution_count": 15,
   "metadata": {},
   "outputs": [
    {
     "data": {
      "image/png": "[encoded data removed]",
      "text/plain": [
       "Graphics object consisting of 1 graphics primitive"
      ]
     },
     "execution_count": 15,
     "metadata": {},
     "output_type": "execute_result"
    }
   ],
   "source": [
    "#Upsilon of the rotate spin of Fig8#Fig8\n",
    "RFig8.PlotUpsilon(T_RFig8,10)"
   ]
  },
  {
   "cell_type": "code",
   "execution_count": 15,
   "metadata": {},
   "outputs": [
    {
     "data": {
      "text/plain": [
       "[1, 0]"
      ]
     },
     "execution_count": 15,
     "metadata": {},
     "output_type": "execute_result"
    }
   ],
   "source": [
    "#[V0,V1] of the rotate spin of Fig8#Fig8\n",
    "RFig8.V(T_RFig8)"
   ]
  },
  {
   "cell_type": "code",
   "execution_count": 8,
   "metadata": {},
   "outputs": [],
   "source": [
    "RollFig8big=rollspun(Fig8)\n",
    "RollFig8=RollFig8big[0]\n",
    "TRollFig8=RollFig8big[1]"
   ]
  },
  {
   "cell_type": "code",
   "execution_count": 15,
   "metadata": {},
   "outputs": [],
   "source": [
    "p=RollFig8.PlotUpsilon(TRollFig8,40)"
   ]
  },
  {
   "cell_type": "code",
   "execution_count": 17,
   "metadata": {},
   "outputs": [],
   "source": [
    "p.save('rollspunfig8upsilon.pdf')"
   ]
  },
  {
   "cell_type": "code",
   "execution_count": 14,
   "metadata": {},
   "outputs": [
    {
     "data": {
      "image/png": "[encoded data removed]",
      "text/plain": [
       "Graphics object consisting of 1 graphics primitive"
      ]
     },
     "execution_count": 14,
     "metadata": {},
     "output_type": "execute_result"
    }
   ],
   "source": [
    "p.plot()"
   ]
  },
  {
   "cell_type": "code",
   "execution_count": 9,
   "metadata": {},
   "outputs": [],
   "source": [
    "T45T34=T45.tensor(T34)"
   ]
  },
  {
   "cell_type": "code",
   "execution_count": 10,
   "metadata": {},
   "outputs": [],
   "source": [
    "RollT45T34big=rollspun(T34.tensor(T34))\n",
    "RollT45T34=RollT34T34big[0]\n",
    "TRollT45T34=RollT34T34big[1]"
   ]
  },
  {
   "cell_type": "code",
   "execution_count": 11,
   "metadata": {},
   "outputs": [
    {
     "data": {
      "text/plain": [
       "[1, 0]"
      ]
     },
     "execution_count": 11,
     "metadata": {},
     "output_type": "execute_result"
    }
   ],
   "source": [
    "RollT45T34.V(TRollT45T34)"
   ]
  },
  {
   "cell_type": "code",
   "execution_count": 12,
   "metadata": {},
   "outputs": [],
   "source": [
    "Fig8T45=Fig8.tensor(T45)"
   ]
  },
  {
   "cell_type": "code",
   "execution_count": 13,
   "metadata": {},
   "outputs": [],
   "source": [
    "Roll8T45big=rollspun(Fig8T45)\n",
    "Roll8T45=Roll8T45big[0]\n",
    "TRoll8T45=Roll8T45big[1]"
   ]
  },
  {
   "cell_type": "code",
   "execution_count": 14,
   "metadata": {},
   "outputs": [
    {
     "data": {
      "text/plain": [
       "[1, 0]"
      ]
     },
     "execution_count": 14,
     "metadata": {},
     "output_type": "execute_result"
    }
   ],
   "source": [
    "Roll8T45.V(TRoll8T45)"
   ]
  },
  {
   "cell_type": "code",
   "execution_count": 4,
   "metadata": {},
   "outputs": [],
   "source": [
    "T34cubed=T34.tensor(T34.tensor(T34))"
   ]
  },
  {
   "cell_type": "code",
   "execution_count": 5,
   "metadata": {},
   "outputs": [],
   "source": [
    "RT34cubedbig=rollspun(T34cubed)"
   ]
  },
  {
   "cell_type": "code",
   "execution_count": 7,
   "metadata": {},
   "outputs": [],
   "source": [
    "R=RT34cubedbig[0]\n",
    "T=RT34cubedbig[1]"
   ]
  },
  {
   "cell_type": "code",
   "execution_count": 11,
   "metadata": {},
   "outputs": [
    {
     "data": {
      "text/plain": [
       "[1, 0]"
      ]
     },
     "execution_count": 11,
     "metadata": {},
     "output_type": "execute_result"
    }
   ],
   "source": [
    "R.V(T)"
   ]
  },
  {
   "cell_type": "code",
   "execution_count": 12,
   "metadata": {},
   "outputs": [],
   "source": [
    "genT94=[[0,12],[-1,11],[-2,8],[-3,7],[-4,4],[-7,2],[-8,0],[-11,-2],[-12,-4],[-17,-7],[-18,8],[-23,11],[-24,12],]\n",
    "diffT94=[[],[0,2],[],[2,4],[],[4,6],[],[6,8],[],[8,10],[],[10,12],[]]\n",
    "T94=CFKinfty(genT94,diffT94)"
   ]
  },
  {
   "cell_type": "code",
   "execution_count": 13,
   "metadata": {},
   "outputs": [],
   "source": [
    "RollT94big=rollspun(T94)\n",
    "RT94=RollT94big[0]\n",
    "TT94=RollT94big[1]"
   ]
  },
  {
   "cell_type": "code",
   "execution_count": 14,
   "metadata": {},
   "outputs": [
    {
     "data": {
      "text/plain": [
       "0"
      ]
     },
     "execution_count": 14,
     "metadata": {},
     "output_type": "execute_result"
    }
   ],
   "source": [
    "RT94.tau(TT94)"
   ]
  },
  {
   "cell_type": "code",
   "execution_count": 15,
   "metadata": {},
   "outputs": [],
   "source": [
    "RollT94sqbig=rollspun(T94.tensor(T94))\n",
    "RT94sq=RollT94sqbig[0]\n",
    "TT94sq=RollT94sqbig[1]"
   ]
  },
  {
   "cell_type": "code",
   "execution_count": 16,
   "metadata": {},
   "outputs": [
    {
     "data": {
      "text/plain": [
       "[1, 0]"
      ]
     },
     "execution_count": 16,
     "metadata": {},
     "output_type": "execute_result"
    }
   ],
   "source": [
    "RT94sq.V(TT94sq)"
   ]
  },
  {
   "cell_type": "code",
   "execution_count": null,
   "metadata": {},
   "outputs": [],
   "source": []
  }
 ],
 "metadata": {
  "kernelspec": {
   "display_name": "SageMath 9.2",
   "language": "sage",
   "name": "sagemath"
  },
  "language_info": {
   "codemirror_mode": {
    "name": "ipython",
    "version": 3
   },
   "file_extension": ".py",
   "mimetype": "text/x-python",
   "name": "python",
   "nbconvert_exporter": "python",
   "pygments_lexer": "ipython3",
   "version": "3.7.7"
  }
 },
 "nbformat": 4,
 "nbformat_minor": 2
}
